{
 "cells": [
  {
   "cell_type": "markdown",
   "metadata": {},
   "source": [
    "# Overall"
   ]
  },
  {
   "cell_type": "markdown",
   "metadata": {},
   "source": [
    "## Libraries"
   ]
  },
  {
   "cell_type": "code",
   "execution_count": 1,
   "metadata": {},
   "outputs": [],
   "source": [
    "import pandas as  pd"
   ]
  },
  {
   "cell_type": "markdown",
   "metadata": {},
   "source": [
    "## Data "
   ]
  },
  {
   "cell_type": "code",
   "execution_count": null,
   "metadata": {},
   "outputs": [],
   "source": []
  },
  {
   "cell_type": "markdown",
   "metadata": {},
   "source": [
    "## 2. Data Preparation Basics"
   ]
  },
  {
   "cell_type": "markdown",
   "metadata": {},
   "source": [
    "### Intro into data Prep:"
   ]
  },
  {
   "cell_type": "markdown",
   "metadata": {},
   "source": [
    "\n",
    "1. Import data\n",
    "\n",
    "2. Data cleaning involves: \n",
    "  -  Removing Duplicates\n",
    "  - Removing Out-of-Range Records\n",
    "  - Removing Stray Characters\n",
    "  - Standardizing Casing\n",
    "\n",
    "3. Transforming Data\n",
    "  - Treating Missing Values\n",
    "  - Scaling and Normalizing Variables\n",
    "    - Its important to scale data:\n",
    "      - So that differing magjnitudes among variables do not produce erroneous or misleading statistics\n",
    "      - To prepare your data for machine learning\n",
    "    - Two ways to Scale:\n",
    "      - Normalization\n",
    "        - Putting each observation on a relatice scale betweeen the values of 0 and 1\n",
    "        - Value of Observation / Sum of All Observations in Variable\n",
    "      - Standardization\n",
    "        - Rescaling data so that is has a zero mean and unit variance\n",
    "4. Processing Data\n",
    "  - Parsing data\n",
    "  - Recoding data\n",
    "  - Reformating data\n",
    "5. Logging your data\n",
    "  - Generate Descriptive statistics\n",
    "  - Logging variable information\n",
    "    - Log variable information, including:\n",
    "      - Variable name and statistical description\n",
    "      - Data format (number, data, text)\n",
    "      - Method of data collection\n",
    "      - Date of data collection\n",
    "      - Data source\n",
    "      - Location where data is stored\n",
    "      - Other notes\n",
    "  - Storing variable information\n",
    "6. Backing Up your data\n",
    "  - Create a backup copy\n",
    "  - Begin analysis of data\n",
    "\n"
   ]
  },
  {
   "cell_type": "markdown",
   "metadata": {},
   "source": [
    "### Treating Missing Values"
   ]
  },
  {
   "cell_type": "code",
   "execution_count": null,
   "metadata": {},
   "outputs": [],
   "source": []
  },
  {
   "cell_type": "markdown",
   "metadata": {},
   "source": [
    "## 3. Data Visualization 101"
   ]
  },
  {
   "cell_type": "code",
   "execution_count": null,
   "metadata": {},
   "outputs": [],
   "source": []
  },
  {
   "cell_type": "markdown",
   "metadata": {},
   "source": [
    "## 4. Practical Data Visualization"
   ]
  },
  {
   "cell_type": "code",
   "execution_count": null,
   "metadata": {},
   "outputs": [],
   "source": []
  },
  {
   "cell_type": "markdown",
   "metadata": {},
   "source": [
    "## 5. Exploratory Data Analysis"
   ]
  },
  {
   "cell_type": "code",
   "execution_count": null,
   "metadata": {},
   "outputs": [],
   "source": []
  },
  {
   "cell_type": "markdown",
   "metadata": {},
   "source": [
    "## 6. Getting Started with Machine Learning"
   ]
  },
  {
   "cell_type": "code",
   "execution_count": null,
   "metadata": {},
   "outputs": [],
   "source": []
  },
  {
   "cell_type": "markdown",
   "metadata": {},
   "source": [
    "## 7. Data Sourcing via Web Scraping"
   ]
  },
  {
   "cell_type": "code",
   "execution_count": null,
   "metadata": {},
   "outputs": [],
   "source": []
  },
  {
   "cell_type": "markdown",
   "metadata": {},
   "source": [
    "## 8. Collaborative Analytics with Streamlit"
   ]
  },
  {
   "cell_type": "code",
   "execution_count": null,
   "metadata": {},
   "outputs": [],
   "source": []
  },
  {
   "cell_type": "markdown",
   "metadata": {},
   "source": []
  }
 ],
 "metadata": {
  "kernelspec": {
   "display_name": "Python 3",
   "language": "python",
   "name": "python3"
  },
  "language_info": {
   "codemirror_mode": {
    "name": "ipython",
    "version": 3
   },
   "file_extension": ".py",
   "mimetype": "text/x-python",
   "name": "python",
   "nbconvert_exporter": "python",
   "pygments_lexer": "ipython3",
   "version": "3.10.13"
  }
 },
 "nbformat": 4,
 "nbformat_minor": 2
}
